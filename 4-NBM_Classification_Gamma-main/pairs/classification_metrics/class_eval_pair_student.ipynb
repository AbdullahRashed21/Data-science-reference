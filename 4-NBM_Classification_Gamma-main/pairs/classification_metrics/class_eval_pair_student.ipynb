{
 "cells": [
  {
   "cell_type": "markdown",
   "metadata": {},
   "source": [
    "# Classification Evaluation Metrics Practice"
   ]
  },
  {
   "cell_type": "markdown",
   "metadata": {},
   "source": [
    "## Write metrics functions\n",
    "\n",
    "Instead of using any built-in sklearn scoring methods, write your own accuracy, precision, recall, and F1 evaluation functions that take arrays of actual and predicted target labels as arguments. \n",
    "    * e.g.  `def accuracy(actuals, preds)`"
   ]
  },
  {
   "cell_type": "code",
   "execution_count": 1,
   "metadata": {
    "ExecuteTime": {
     "end_time": "2020-04-23T02:56:02.049692Z",
     "start_time": "2020-04-23T02:56:02.043119Z"
    }
   },
   "outputs": [],
   "source": [
    "def accuracy(actuals, preds):\n",
    "    # YOUR CODE HERE\n",
    "    pass\n",
    "\n",
    "def precision(actuals, preds):\n",
    "    # YOUR CODE HERE\n",
    "    pass\n",
    "\n",
    "def recall(actuals, preds):\n",
    "    # YOUR CODE HERE\n",
    "    pass\n",
    "\n",
    "def F1(actuals, preds):\n",
    "    # YOUR CODE HERE\n",
    "    pass"
   ]
  },
  {
   "cell_type": "markdown",
   "metadata": {},
   "source": [
    "## Load data from sklearn\n",
    "\n",
    "Load the Wisconsin breast cancer data from sklearn (binary classification problem). See [here](https://scikit-learn.org/stable/modules/generated/sklearn.datasets.load_breast_cancer.html) for documentation about the dataset and a demo of how to use it.\n",
    "\n",
    "Hint: Useful attributes are \"data\", \"target\", and \"feature_names\"."
   ]
  },
  {
   "cell_type": "code",
   "execution_count": 2,
   "metadata": {
    "ExecuteTime": {
     "end_time": "2020-04-23T02:56:03.691358Z",
     "start_time": "2020-04-23T02:56:02.058688Z"
    }
   },
   "outputs": [],
   "source": [
    "import pandas as pd\n",
    "import numpy as np\n",
    "\n",
    "from sklearn.datasets import load_breast_cancer\n",
    "\n",
    "# YOUR CODE HERE"
   ]
  },
  {
   "cell_type": "markdown",
   "metadata": {},
   "source": [
    "## Split data and train models\n",
    "\n",
    "Do a train/test split and fit a logistic regression and 10 nearest neighbors model. \n"
   ]
  },
  {
   "cell_type": "code",
   "execution_count": 3,
   "metadata": {
    "ExecuteTime": {
     "end_time": "2020-04-23T02:56:03.728696Z",
     "start_time": "2020-04-23T02:56:03.696455Z"
    }
   },
   "outputs": [],
   "source": [
    "from sklearn.model_selection import train_test_split\n",
    "\n",
    "# Split data into 80% train and 20% test\n",
    "# YOUR CODE HERE"
   ]
  },
  {
   "cell_type": "code",
   "execution_count": 4,
   "metadata": {
    "ExecuteTime": {
     "end_time": "2020-04-23T02:56:03.796508Z",
     "start_time": "2020-04-23T02:56:03.730818Z"
    }
   },
   "outputs": [],
   "source": [
    "from sklearn.linear_model import LogisticRegression\n",
    "from sklearn.neighbors import KNeighborsClassifier\n",
    "\n",
    "# YOUR COODE HERE"
   ]
  },
  {
   "cell_type": "markdown",
   "metadata": {},
   "source": [
    "## Score models on test set \n",
    "\n",
    "Use your functions from part 1 to score your models on the test set."
   ]
  },
  {
   "cell_type": "code",
   "execution_count": 5,
   "metadata": {
    "ExecuteTime": {
     "end_time": "2020-04-23T02:56:03.801937Z",
     "start_time": "2020-04-23T02:56:03.799215Z"
    }
   },
   "outputs": [],
   "source": [
    "# YOUR CODE HERE"
   ]
  },
  {
   "cell_type": "markdown",
   "metadata": {},
   "source": [
    "## OPTIONAL: Plot ROC curve\n",
    "\n",
    "If time permits, write your own function for generating an ROC curve plot from model predictions without using sklearn's assistance. \n",
    "\n",
    "Remember that ROC plots true positive rate (recall) vs. false positive rate for a given probability decision threshold. \n",
    "So you should loop over a range of probability cutoffs from 1 to 0, convert a model's predicted probabilities (`model.predict_proba()[:,1]`) to target labels using each cutoff, and plot the results as a curve.  \n",
    "\n",
    "Hint: First create a function that calculates the false positive rate."
   ]
  },
  {
   "cell_type": "code",
   "execution_count": 6,
   "metadata": {
    "ExecuteTime": {
     "end_time": "2020-04-23T02:56:04.289112Z",
     "start_time": "2020-04-23T02:56:03.803962Z"
    }
   },
   "outputs": [],
   "source": [
    "import matplotlib.pyplot as plt\n",
    "%matplotlib inline\n",
    "import seaborn as sns\n",
    "sns.set()\n",
    "\n",
    "def fpr(actuals, preds):\n",
    "    # YOUR CODE HERE \n",
    "    pass\n",
    "\n",
    "def plot_ROC_curve(model, X, y):\n",
    "    # YOUR CODE HERE\n",
    "    pass"
   ]
  }
 ],
 "metadata": {
  "kernelspec": {
   "display_name": "Python 3",
   "language": "python",
   "name": "python3"
  },
  "language_info": {
   "codemirror_mode": {
    "name": "ipython",
    "version": 3
   },
   "file_extension": ".py",
   "mimetype": "text/x-python",
   "name": "python",
   "nbconvert_exporter": "python",
   "pygments_lexer": "ipython3",
   "version": "3.7.7"
  },
  "toc": {
   "base_numbering": 1,
   "nav_menu": {},
   "number_sections": true,
   "sideBar": true,
   "skip_h1_title": false,
   "title_cell": "Table of Contents",
   "title_sidebar": "Contents",
   "toc_cell": false,
   "toc_position": {},
   "toc_section_display": true,
   "toc_window_display": true
  }
 },
 "nbformat": 4,
 "nbformat_minor": 2
}
