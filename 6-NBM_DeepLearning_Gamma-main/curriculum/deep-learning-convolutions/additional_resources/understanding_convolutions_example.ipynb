{
 "cells": [
  {
   "cell_type": "code",
   "execution_count": null,
   "metadata": {
    "collapsed": true
   },
   "outputs": [],
   "source": [
    "import matplotlib.pylab as plt\n",
    "%matplotlib inline\n",
    "from scipy import signal\n",
    "import numpy as np"
   ]
  },
  {
   "cell_type": "code",
   "execution_count": null,
   "metadata": {},
   "outputs": [],
   "source": [
    "image1 = [[0,0,0,0,0,0,0,0,0],\n",
    "     [0,255,0,0,0,0,0,255,0],\n",
    "     [0,0,255,0,0,0,255,0,0],\n",
    "     [0,0,0,255,0,255,0,0,0],\n",
    "     [0,0,0,0,255,0,0,0,0],\n",
    "     [0,0,0,255,0,255,0,0,0],\n",
    "     [0,0,255,0,0,0,255,0,0],\n",
    "     [0,255,0,0,0,0,0,255,0],\n",
    "     [0,0,0,0,0,0,0,0,0]]\n",
    "\n",
    "image2 = [[0,0,0,0,0,0,0,0,0],\n",
    "     [0,255,0,0,0,0,0,0,0],\n",
    "     [0,0,255,0,0,0,0,0,0],\n",
    "     [0,0,0,255,0,0,0,0,0],\n",
    "     [0,0,0,0,255,0,0,0,0],\n",
    "     [0,0,0,0,0,255,0,0,0],\n",
    "     [0,0,0,0,0,0,255,0,0],\n",
    "     [0,0,0,0,0,0,0,255,0],\n",
    "     [0,0,0,0,0,0,0,0,0]]\n",
    "\n",
    "image3 = [[0,0,0,0,0,0,0,0,0],\n",
    "     [0,0,0,0,0,0,0,255,0],\n",
    "     [0,0,0,0,0,0,255,0,0],\n",
    "     [0,0,0,0,0,255,0,0,0],\n",
    "     [0,0,0,0,255,0,0,0,0],\n",
    "     [0,0,0,255,0,0,0,0,0],\n",
    "     [0,0,255,0,0,0,0,0,0],\n",
    "     [0,255,0,0,0,0,0,0,0],\n",
    "     [0,0,0,0,0,0,0,0,0]]\n",
    "\n",
    "plt.figure(figsize = [10,10])\n",
    "plt.subplot(1,3,1)\n",
    "plt.imshow(image1,cmap = 'gray')\n",
    "plt.subplot(1,3,2)\n",
    "plt.imshow(image2,cmap = 'gray')\n",
    "plt.subplot(1,3,3)\n",
    "plt.imshow(image3,cmap = 'gray');"
   ]
  },
  {
   "cell_type": "code",
   "execution_count": null,
   "metadata": {
    "collapsed": true
   },
   "outputs": [],
   "source": [
    "def convolve(kernel,images):\n",
    "    plt.figure(figsize = [10,10])\n",
    "\n",
    "    for i,img in enumerate(images):\n",
    "        convImage = signal.convolve2d(img, kernel, mode = 'same')/np.sum(np.abs(kernel)).astype('int')\n",
    "        plt.subplot(1,len(images),i+1)\n",
    "        \n",
    "        if len(images)>1:\n",
    "            plt.imshow(convImage, cmap = 'gray', vmin = 0, vmax = 255);\n",
    "        else:\n",
    "            plt.imshow(convImage, cmap = 'gray');"
   ]
  },
  {
   "cell_type": "code",
   "execution_count": null,
   "metadata": {},
   "outputs": [],
   "source": [
    "kernel_1 = [[ 1,0,0],\n",
    "           [0,1,0],\n",
    "           [0,0,1]]\n",
    "plt.figure(figsize = [1,1])\n",
    "plt.imshow(kernel_1,cmap = 'gray');"
   ]
  },
  {
   "cell_type": "code",
   "execution_count": null,
   "metadata": {},
   "outputs": [],
   "source": [
    "convolve(kernel_1,[image1,image2,image3])"
   ]
  },
  {
   "cell_type": "code",
   "execution_count": null,
   "metadata": {},
   "outputs": [],
   "source": [
    "kernel_2 = [[0,0,1],\n",
    "           [0,1,0],\n",
    "           [1,0,0]]\n",
    "plt.figure(figsize = [1,1])\n",
    "plt.imshow(kernel_2,cmap = 'gray');"
   ]
  },
  {
   "cell_type": "code",
   "execution_count": null,
   "metadata": {},
   "outputs": [],
   "source": [
    "convolve(kernel_2,[image1,image2,image3])"
   ]
  },
  {
   "cell_type": "code",
   "execution_count": null,
   "metadata": {},
   "outputs": [],
   "source": [
    "kernel_3 = [[1,0,1],\n",
    "           [0,1,0],\n",
    "           [1,0,1]]\n",
    "plt.figure(figsize = [1,1])\n",
    "plt.imshow(kernel_3,cmap = 'gray');"
   ]
  },
  {
   "cell_type": "code",
   "execution_count": null,
   "metadata": {},
   "outputs": [],
   "source": [
    "convolve(kernel_3,[image1,image2,image3])"
   ]
  },
  {
   "cell_type": "code",
   "execution_count": null,
   "metadata": {},
   "outputs": [],
   "source": [
    "kernel_4 = [[0,0,0],\n",
    "           [0,1,0],\n",
    "           [0,0,0]]\n",
    "plt.figure(figsize = [1,1])\n",
    "plt.imshow(kernel_4,cmap = 'gray');"
   ]
  },
  {
   "cell_type": "code",
   "execution_count": null,
   "metadata": {},
   "outputs": [],
   "source": [
    "convolve(kernel_4,[image1,image2,image3])"
   ]
  },
  {
   "cell_type": "code",
   "execution_count": null,
   "metadata": {},
   "outputs": [],
   "source": [
    "img = plt.imread('dog.jpg')\n",
    "\n",
    "def rgb2gray(rgb):\n",
    "    return np.dot(rgb[...,:3], [0.2989, 0.5870, 0.1140])\n",
    "\n",
    "img = rgb2gray(img).astype('int')\n",
    "plt.figure(figsize = [10,10])\n",
    "plt.imshow(img,cmap='gray');"
   ]
  },
  {
   "cell_type": "code",
   "execution_count": null,
   "metadata": {},
   "outputs": [],
   "source": [
    "kernel_5 = [[0,0,0],\n",
    "           [1,0,-1],\n",
    "           [0,0,0]]\n",
    "convolve(kernel_5,[img])"
   ]
  },
  {
   "cell_type": "code",
   "execution_count": null,
   "metadata": {
    "collapsed": true
   },
   "outputs": [],
   "source": []
  }
 ],
 "metadata": {
  "kernelspec": {
   "display_name": "metis",
   "language": "python",
   "name": "metis"
  },
  "language_info": {
   "codemirror_mode": {
    "name": "ipython",
    "version": 3
   },
   "file_extension": ".py",
   "mimetype": "text/x-python",
   "name": "python",
   "nbconvert_exporter": "python",
   "pygments_lexer": "ipython3",
   "version": "3.6.2"
  }
 },
 "nbformat": 4,
 "nbformat_minor": 2
}
